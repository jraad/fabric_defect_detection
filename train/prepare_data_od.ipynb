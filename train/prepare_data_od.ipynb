{
 "cells": [
  {
   "cell_type": "markdown",
   "metadata": {},
   "source": [
    "### Import Libraries"
   ]
  },
  {
   "cell_type": "code",
   "execution_count": 2,
   "metadata": {},
   "outputs": [],
   "source": [
    "import os\n",
    "\n",
    "import matplotlib.pyplot as plt\n",
    "\n",
    "import json\n",
    "import cv2\n",
    "import numpy as np\n",
    "\n",
    "from torchvision import transforms\n",
    "\n",
    "from utilities import AITEXPatchedSegmentation"
   ]
  },
  {
   "cell_type": "code",
   "execution_count": 3,
   "metadata": {},
   "outputs": [],
   "source": [
    "# Define paths\n",
    "root = os.path.abspath(os.path.join(os.getcwd(), \"..\"))\n",
    "model_dir = os.path.join(root, \"models\")\n",
    "data_dir = os.path.join(root, \"data\")\n",
    "aitex_dir = os.path.join(data_dir, \"aitex\")\n",
    "od_dir = os.path.join(aitex_dir, \"object_detection\")\n",
    "img_dir = os.path.join(od_dir, \"images\")\n",
    "mask_dir = os.path.join(od_dir, \"masks\")\n",
    "\n",
    "# Load dataset with transforms and split\n",
    "transform = transforms.Compose([])\n",
    "data = AITEXPatchedSegmentation(aitex_dir, transform=transform)#, normal_only=True)"
   ]
  },
  {
   "cell_type": "code",
   "execution_count": 4,
   "metadata": {},
   "outputs": [],
   "source": [
    "def combine_bounding_boxes(bounding_boxes):\n",
    "    \"\"\"Combine into single bounding box.\"\"\"\n",
    "    x_min = [bbox[0] for bbox in bounding_boxes]\n",
    "    y_min = [bbox[1] for bbox in bounding_boxes]\n",
    "    x_max = [bbox[2] for bbox in bounding_boxes]\n",
    "    y_max = [bbox[3] for bbox in bounding_boxes]\n",
    "\n",
    "    return [(min(x_min), min(y_min), max(x_max), max(y_max))]\n",
    "\n",
    "def get_bounding_boxes_from_mask(mask):\n",
    "    \"\"\"Detects contours from a mask and returns bounding boxes in COCO format.\"\"\"\n",
    "    contours, _ = cv2.findContours(mask, cv2.RETR_EXTERNAL, cv2.CHAIN_APPROX_SIMPLE)\n",
    "\n",
    "    bounding_boxes = []\n",
    "    for contour in contours:\n",
    "        x, y, w, h = cv2.boundingRect(contour)\n",
    "        bbox = (x, y, x + w, y + h)\n",
    "        bounding_boxes.append(bbox)\n",
    "\n",
    "    if len(bounding_boxes) > 1:\n",
    "        bounding_boxes = combine_bounding_boxes(bounding_boxes)\n",
    "    \n",
    "    xmin, ymin, xmax, ymax = bounding_boxes[0]\n",
    "    w = xmax - xmin\n",
    "    h = ymax - ymin\n",
    "    return bounding_boxes[0], w * h"
   ]
  },
  {
   "cell_type": "markdown",
   "metadata": {},
   "source": [
    "### Prepare Data"
   ]
  },
  {
   "cell_type": "code",
   "execution_count": 5,
   "metadata": {},
   "outputs": [],
   "source": [
    "defect_codes = {\n",
    "    0: \"Normal\",\n",
    "    2:\t\"Broken end\",\n",
    "    6:\t\"Broken yarn\",\n",
    "    10:\t\"Broken pick\",\n",
    "    16:\t\"Weft curling\",\n",
    "    19:\t\"Fuzzyball\",\n",
    "    22:\t\"Cut selvage\",\n",
    "    23:\t\"Crease\",\n",
    "    25:\t\"Warp ball\",\n",
    "    27:\t\"Knots\",\n",
    "    29:\t\"Contamination\",\n",
    "    30: \"Nep\",\n",
    "    36:\t\"Weft crack\",\n",
    "}\n",
    "\n",
    "index_to_code = {i: val for i, val in enumerate(defect_codes.keys())}\n",
    "code_to_index = {val: i for i, val in index_to_code.items()}"
   ]
  },
  {
   "cell_type": "code",
   "execution_count": 6,
   "metadata": {},
   "outputs": [],
   "source": [
    "annotations = {\n",
    "    \"info\": {\n",
    "        \"description\": \"AITEX Fabric Defects\",\n",
    "        \"version\": \"1.0\",\n",
    "        \"year\": 2023,\n",
    "        \"date_created\": \"2023-07-08\"\n",
    "    },\n",
    "    \"categories\": [{\"id\": index, \"name\": name, \"supercategory\": \"object\"} for index, (key, name) in enumerate(defect_codes.items())],\n",
    "    \"images\": [],\n",
    "    \"annotations\": []\n",
    "}\n",
    "\n",
    "# Process each image in the directory\n",
    "for index, sample in enumerate(data):\n",
    "    img = sample[0].numpy().reshape((256, 256))\n",
    "    mask = sample[1].numpy().reshape((256, 256)).astype(np.uint8)\n",
    "    class_label = sample[2]\n",
    "    bbox, area = get_bounding_boxes_from_mask(mask)\n",
    "\n",
    "    image_entry = {\n",
    "        \"id\": index,\n",
    "        \"file_name\": f\"{index}.png\",\n",
    "        \"width\": img.shape[1],\n",
    "        \"height\": img.shape[0]\n",
    "    }\n",
    "    annotations[\"images\"].append(image_entry)\n",
    "    cv2.imwrite(os.path.join(img_dir, image_entry[\"file_name\"]), img * 255.)\n",
    "    cv2.imwrite(os.path.join(mask_dir, image_entry[\"file_name\"]), mask * 255.)\n",
    "    annotation_entry = {\n",
    "        \"id\": index,\n",
    "        \"image_id\": index,\n",
    "        \"category_id\": code_to_index[class_label],\n",
    "        \"bbox\": tuple(bbox),\n",
    "        \"area\": area,\n",
    "        \"iscrowd\": 0\n",
    "    }\n",
    "    annotations[\"annotations\"].append(annotation_entry)"
   ]
  },
  {
   "cell_type": "code",
   "execution_count": 80,
   "metadata": {},
   "outputs": [],
   "source": [
    "with open(os.path.join(od_dir, \"annotations.json\"), \"w\") as anno_file:\n",
    "    json.dump(annotations, anno_file)"
   ]
  },
  {
   "cell_type": "markdown",
   "metadata": {},
   "source": [
    "### Quick Sanity Test"
   ]
  },
  {
   "cell_type": "code",
   "execution_count": 81,
   "metadata": {},
   "outputs": [],
   "source": [
    "sample = data[0]\n",
    "\n",
    "img = sample[0].numpy().reshape((256, 256))\n",
    "mask = sample[1].numpy().reshape((256, 256)).astype(np.uint8)\n",
    "\n",
    "bounding_boxes, contours = get_bounding_boxes_from_mask(mask)\n",
    "\n",
    "display_mask = mask.copy()\n",
    "for contour in contours:\n",
    "    x, y, w, h = cv2.boundingRect(contour)\n",
    "    cv2.rectangle(display_mask,(x,y),(x+w,y+h),(255, 255, 255),1)\n",
    "\n",
    "plt.imshow(display_mask)"
   ]
  }
 ],
 "metadata": {
  "kernelspec": {
   "display_name": "fdd",
   "language": "python",
   "name": "python3"
  },
  "language_info": {
   "codemirror_mode": {
    "name": "ipython",
    "version": 3
   },
   "file_extension": ".py",
   "mimetype": "text/x-python",
   "name": "python",
   "nbconvert_exporter": "python",
   "pygments_lexer": "ipython3",
   "version": "3.10.11"
  },
  "orig_nbformat": 4
 },
 "nbformat": 4,
 "nbformat_minor": 2
}
